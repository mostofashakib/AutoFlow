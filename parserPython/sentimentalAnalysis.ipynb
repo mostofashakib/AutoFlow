{
 "cells": [
  {
   "cell_type": "code",
   "execution_count": 9,
   "metadata": {},
   "outputs": [],
   "source": [
    "from vaderSentiment.vaderSentiment import SentimentIntensityAnalyzer\n",
    "analyser = SentimentIntensityAnalyzer()"
   ]
  },
  {
   "cell_type": "code",
   "execution_count": 10,
   "metadata": {},
   "outputs": [],
   "source": [
    "def sentiment_analyzer_scores(sentence):\n",
    "    score = analyser.polarity_scores(sentence)\n",
    "    print(\"{:-<40} {}\".format(sentence, str(score)))"
   ]
  },
  {
   "cell_type": "code",
   "execution_count": 21,
   "metadata": {},
   "outputs": [
    {
     "name": "stdout",
     "output_type": "stream",
     "text": [
      "unfortunately, I am unable come to the meeting {'neg': 0.286, 'neu': 0.714, 'pos': 0.0, 'compound': -0.34}\n"
     ]
    }
   ],
   "source": [
    "sentiment_analyzer_scores(\"unfortunately, I am unable come to the meeting\")"
   ]
  },
  {
   "cell_type": "code",
   "execution_count": 22,
   "metadata": {},
   "outputs": [
    {
     "name": "stdout",
     "output_type": "stream",
     "text": [
      "Ah, sounds good, I should be able to arrive {'neg': 0.0, 'neu': 0.707, 'pos': 0.293, 'compound': 0.4404}\n"
     ]
    }
   ],
   "source": [
    "sentiment_analyzer_scores(\"Ah, sounds good, I should be able to arrive\")"
   ]
  },
  {
   "cell_type": "code",
   "execution_count": 29,
   "metadata": {},
   "outputs": [
    {
     "name": "stdout",
     "output_type": "stream",
     "text": [
      "That should be good for me-------------- {'neg': 0.0, 'neu': 0.633, 'pos': 0.367, 'compound': 0.4404}\n"
     ]
    }
   ],
   "source": [
    "sentiment_analyzer_scores(\"That should be good for me\")"
   ]
  },
  {
   "cell_type": "code",
   "execution_count": 24,
   "metadata": {},
   "outputs": [
    {
     "name": "stdout",
     "output_type": "stream",
     "text": [
      "Sorry, that will be hard for me--------- {'neg': 0.351, 'neu': 0.649, 'pos': 0.0, 'compound': -0.1779}\n"
     ]
    }
   ],
   "source": [
    "sentiment_analyzer_scores(\"Sorry, that will be hard for me\")"
   ]
  },
  {
   "cell_type": "code",
   "execution_count": null,
   "metadata": {},
   "outputs": [],
   "source": []
  }
 ],
 "metadata": {
  "kernelspec": {
   "display_name": "Python 3",
   "language": "python",
   "name": "python3"
  },
  "language_info": {
   "codemirror_mode": {
    "name": "ipython",
    "version": 3
   },
   "file_extension": ".py",
   "mimetype": "text/x-python",
   "name": "python",
   "nbconvert_exporter": "python",
   "pygments_lexer": "ipython3",
   "version": "3.6.8"
  }
 },
 "nbformat": 4,
 "nbformat_minor": 2
}
